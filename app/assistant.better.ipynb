{
 "cells": [
  {
   "cell_type": "markdown",
   "metadata": {},
   "source": [
    "## Better!\n",
    "\n",
    "In this notebook I will try refactoring the code to use the api more efficiently.\n"
   ]
  },
  {
   "cell_type": "markdown",
   "metadata": {},
   "source": [
    "##### Load Libraries\n"
   ]
  },
  {
   "cell_type": "code",
   "execution_count": 274,
   "metadata": {},
   "outputs": [],
   "source": [
    "import os\n",
    "import json\n",
    "import base64\n",
    "from openai import OpenAI\n",
    "from dotenv import load_dotenv"
   ]
  },
  {
   "cell_type": "markdown",
   "metadata": {},
   "source": [
    "##### Load Environment Variables\n"
   ]
  },
  {
   "cell_type": "code",
   "execution_count": 275,
   "metadata": {},
   "outputs": [],
   "source": [
    "load_dotenv()\n",
    "api_key = os.environ[\"OPENAI_API_KEY\"]"
   ]
  },
  {
   "cell_type": "markdown",
   "metadata": {},
   "source": [
    "##### Data File Access\n"
   ]
  },
  {
   "cell_type": "code",
   "execution_count": 276,
   "metadata": {},
   "outputs": [],
   "source": [
    "PATH_TO_JSON_FILE = \"../data/visa_information.json\"\n",
    "\n",
    "try:\n",
    "    with open(PATH_TO_JSON_FILE) as file:\n",
    "        visa_information = json.load(file)\n",
    "except:\n",
    "    raise Exception(\"Failed to load json file.\")"
   ]
  },
  {
   "cell_type": "markdown",
   "metadata": {},
   "source": [
    "##### Adjust Data Structure For Easier Lookups\n"
   ]
  },
  {
   "cell_type": "code",
   "execution_count": 277,
   "metadata": {},
   "outputs": [],
   "source": [
    "new_visa_information = {}\n",
    "\n",
    "for origin, visa_info in visa_information.items():\n",
    "    new_visa_information[origin] = {}\n",
    "    \"\"\" \n",
    "        {\n",
    "            origin: {}\n",
    "        }\n",
    "    \"\"\"\n",
    "\n",
    "    for destination, details in visa_info.get(\"visaFree\", {}).items():\n",
    "        new_visa_information[origin][destination] = {\n",
    "            \"type\": \"visaFree\",\n",
    "            \"maxStay\": details[\"maxStay\"]\n",
    "        }\n",
    "    \n",
    "    for destination, details in visa_info.get(\"visaOnArrival\", {}).items():\n",
    "        new_visa_information[origin][destination] = {\n",
    "            \"type\": \"visaOnArrival\",\n",
    "            \"maxStay\": details[\"maxStay\"]\n",
    "        }\n",
    "    \n",
    "    \"\"\"\n",
    "    {\n",
    "        origin: \n",
    "        {\n",
    "            destination: \n",
    "            {\n",
    "                type: string,\n",
    "                \"maxStay\": number    \n",
    "            }    \n",
    "        }\n",
    "    }        \n",
    "    \"\"\""
   ]
  },
  {
   "cell_type": "markdown",
   "metadata": {},
   "source": [
    "##### Function To Get Visa Information\n",
    "\n",
    "For the sake of scalability, we will use a dictionary with the name of the function and a reference to the function in the code, this way we can add functions easily to our system by appending to this dictionary.\n"
   ]
  },
  {
   "cell_type": "code",
   "execution_count": 278,
   "metadata": {},
   "outputs": [],
   "source": [
    "async def get_visa_information(origin_country: str, destination_country: str, data = new_visa_information):    \n",
    "    if not origin_country and not destination_country:\n",
    "        raise ValueError(\"Both 'origin' and 'destination' countries are required.\")\n",
    "    \n",
    "    visa_info = data.get(origin_country, {}).get(destination_country, {})\n",
    "    \n",
    "    return {\n",
    "        'origin country': origin_country,\n",
    "        'destination country': destination_country,\n",
    "        'visa type': visa_info.get('type', 'visa required'),\n",
    "        'maxStay': visa_info.get('maxStay', 0)\n",
    "    }"
   ]
  },
  {
   "cell_type": "code",
   "execution_count": 279,
   "metadata": {},
   "outputs": [],
   "source": [
    "# Add More Functions Here\n",
    "function_calls_dict = {\n",
    "    \"get_visa_information\": get_visa_information\n",
    "}"
   ]
  },
  {
   "cell_type": "markdown",
   "metadata": {},
   "source": [
    "##### Utility Functions\n"
   ]
  },
  {
   "cell_type": "code",
   "execution_count": 290,
   "metadata": {},
   "outputs": [],
   "source": [
    "\n",
    "def encode_image(image_path):\n",
    "    with open(image_path, \"rb\") as image_file:\n",
    "        return base64.b64encode(image_file.read()).decode(\"utf-8\")\n",
    "\n",
    "def create_image_prompt(image_path):    \n",
    "    base64_image = encode_image(image_path)\n",
    "\n",
    "    return {\n",
    "        \"role\": \"user\", \n",
    "        \"content\" :\n",
    "            [\n",
    "                {\"type\": \"text\", \"text\": \"Here is a picture of my passport. Extract the abbreviation of the origin country from it.\"},\n",
    "                {\"type\": \"image_url\", \"image_url\": {\"url\": f\"data:image/jpeg;base64,{base64_image}\"},},\n",
    "            ]\n",
    "        }\n"
   ]
  },
  {
   "cell_type": "markdown",
   "metadata": {},
   "source": [
    "##### Function Calling Service\n",
    "\n",
    "This service class will be responsible for:\n",
    "\n",
    "- Access to the functions dictionary.\n",
    "- Extract tool calls from the assistant messages.\n",
    "- Loop through the tool calls and call each function respectively.\n",
    "- Append each tool call and its subsequent result into an array to be appended eventually to the main message stack.\n"
   ]
  },
  {
   "cell_type": "code",
   "execution_count": 280,
   "metadata": {},
   "outputs": [],
   "source": [
    "class FunctionCallService():\n",
    "    def __init__(self, functions):\n",
    "        self.functions = functions\n",
    "        self.tool_call_messages = []\n",
    "        \n",
    "    async def run(self, tool_call_prompt):\n",
    "\n",
    "        for tool_call in tool_call_prompt.tool_calls:\n",
    "            # Extract Function Name and Arguments\n",
    "            name = tool_call.function.name\n",
    "            args = json.loads(tool_call.function.arguments)\n",
    "\n",
    "            # Call The Function\n",
    "            result = await self.__call_function(name, args)\n",
    "            \n",
    "            # In case our function returns an object\n",
    "            if isinstance(result, object):\n",
    "                result = json.dumps(result)\n",
    "            \n",
    "            self.tool_call_messages.append({\n",
    "                \"role\": \"tool\",\n",
    "                \"tool_call_id\":tool_call.id,\n",
    "                \"content\": result\n",
    "            })\n",
    "            \n",
    "        return self.tool_call_messages\n",
    "            \n",
    "    async def __call_function(self, name, args):\n",
    "        if name in self.functions:\n",
    "            func = self.functions[name]\n",
    "            try:\n",
    "                return await func(**args)\n",
    "            except TypeError as e:\n",
    "                return f\"Error calling function '{name}': {str(e)}\"\n",
    "        else:\n",
    "            return f\"Error: Function '{name}' not found.\"\n",
    "        \n",
    "    def reset(self):\n",
    "        self.function_call_messages = []"
   ]
  },
  {
   "cell_type": "markdown",
   "metadata": {},
   "source": [
    "##### Chat Manager\n",
    "\n",
    "The main idea behind having a manager for our chat is to allow easier management for the messages stack.\n",
    "In this class we mainly run completions, and those completions – based on their type (tool calls, message etc..) – we route the flow of the messages.\n"
   ]
  },
  {
   "cell_type": "code",
   "execution_count": 281,
   "metadata": {},
   "outputs": [],
   "source": [
    "from typing import List\n",
    "from openai import OpenAI\n",
    "\n",
    "class ChatManager():\n",
    "    def __init__(self, tools, api_key: str ,model: str = \"gpt-4o-mini\", messages: List[object] = [] ):\n",
    "        self.model = model\n",
    "        self.tools = tools\n",
    "        self.messages = messages\n",
    "        self.client = OpenAI(api_key=api_key)\n",
    "        self.functionCallService = FunctionCallService(function_calls_dict)\n",
    "    \n",
    "    async def next(self, message):\n",
    "        self.messages.append(message)\n",
    "        \n",
    "        completion, is_function_calling = await self.__get_completion()\n",
    "        \n",
    "        # If there are function calling\n",
    "        if is_function_calling:\n",
    "            # Get the responses from the tools (Function Calls)\n",
    "            tool_calls_responses = await self.functionCallService.run(completion)\n",
    "            \n",
    "            # Append the responses to the Messages Stack\n",
    "            self.messages = self.messages + tool_calls_responses\n",
    "            \n",
    "            # Run a new completion with the new information\n",
    "            completion, _ = await self.__get_completion()\n",
    "            \n",
    "        # Return the content of the prompt\n",
    "        return completion.content\n",
    "    \n",
    "    async def __get_completion(self):\n",
    "        response = client.chat.completions.create(\n",
    "            model = self.model,\n",
    "            tools = self.tools,\n",
    "            messages = self.messages,\n",
    "        )\n",
    "        \n",
    "        # Extract Message\n",
    "        message = response.choices[0].message\n",
    "        \n",
    "        # Check if there is a function call\n",
    "        is_function_calling = (\n",
    "            hasattr(response.choices[0].message, \"tool_calls\") \n",
    "            and \n",
    "            message.tool_calls is not None)\n",
    "        \n",
    "        if not is_function_calling:\n",
    "            self.messages.append({\"role\": \"assistant\", \"content\": message.content})\n",
    "        else:\n",
    "            self.messages.append(message)\n",
    "        \n",
    "        return message, is_function_calling\n",
    "    \n",
    "    def reset(self):\n",
    "        self.messages = []\n",
    "        self.functionCallService.reset()\n",
    "    "
   ]
  },
  {
   "cell_type": "markdown",
   "metadata": {},
   "source": [
    "##### Tools (Function Calls)\n"
   ]
  },
  {
   "cell_type": "code",
   "execution_count": 282,
   "metadata": {},
   "outputs": [],
   "source": [
    "tools = [\n",
    "    {\n",
    "        \"type\": \"function\",\n",
    "        \"function\": {  \n",
    "        \"name\": \"get_visa_information\",\n",
    "        \"description\": \"Get Visa information between two locations\",\n",
    "        \"parameters\": {\n",
    "            \"type\": \"object\",\n",
    "            \"properties\": {\n",
    "                \"origin_country\": {\n",
    "                    \"type\": \"string\",\n",
    "                    \"description\": \"Abbreviation of the country from which the user's passport is issued\",\n",
    "                },\n",
    "                \"destination_country\": {\n",
    "                    \"type\": \"string\",\n",
    "                    \"description\": \"Abbreviation of the country the user is planning on visiting\"\n",
    "                }\n",
    "            },\n",
    "            \"required\": [\"origin_country\" ,\"destination_country\"],\n",
    "            \"additionalProperties\": False\n",
    "            },\n",
    "            \"strict\": True\n",
    "            },\n",
    "        },\n",
    "    ]"
   ]
  },
  {
   "cell_type": "markdown",
   "metadata": {},
   "source": [
    "### Prompting\n"
   ]
  },
  {
   "cell_type": "markdown",
   "metadata": {},
   "source": [
    "#### Prompt #1 - From Lebanon To Portugal - Text Prompts\n"
   ]
  },
  {
   "cell_type": "code",
   "execution_count": 268,
   "metadata": {},
   "outputs": [
    {
     "name": "stdout",
     "output_type": "stream",
     "text": [
      "[{'role': 'user', 'content': \"Hello, I'm planning a trip to Portugal. Can you help me with the visa requirements?\"}]\n",
      "Could you please tell me which country your passport is issued from? This will help me provide accurate visa information for your trip to Portugal.\n"
     ]
    }
   ],
   "source": [
    "# Create Manager\n",
    "manager = ChatManager(tools=tools, api_key=api_key)\n",
    "\n",
    "# Reset Manager\n",
    "manager.reset()\n",
    "\n",
    "# Create User Message\n",
    "message = {\"role\": \"user\", \"content\": \"Hello, I'm planning a trip to Portugal. Can you help me with the visa requirements?\" }\n",
    "\n",
    "# Run Completion\n",
    "completion = await manager.next(message)\n",
    "\n",
    "print(completion)"
   ]
  },
  {
   "cell_type": "code",
   "execution_count": 269,
   "metadata": {},
   "outputs": [
    {
     "name": "stdout",
     "output_type": "stream",
     "text": [
      "[{'role': 'user', 'content': \"Hello, I'm planning a trip to Portugal. Can you help me with the visa requirements?\"}, {'role': 'assistant', 'content': 'Could you please tell me which country your passport is issued from? This will help me provide accurate visa information for your trip to Portugal.'}, {'role': 'user', 'content': 'My passport is from Lebanon.'}]\n",
      "Tool Call ChatCompletionMessageToolCall(id='call_3tjnXOirtqUzBu6GIsCcgiaE', function=Function(arguments='{\"origin_country\":\"LB\",\"destination_country\":\"PT\"}', name='get_visa_information'), type='function')\n",
      "HERE [{'role': 'user', 'content': \"Hello, I'm planning a trip to Portugal. Can you help me with the visa requirements?\"}, {'role': 'assistant', 'content': 'Could you please tell me which country your passport is issued from? This will help me provide accurate visa information for your trip to Portugal.'}, {'role': 'user', 'content': 'My passport is from Lebanon.'}, ChatCompletionMessage(content=None, refusal=None, role='assistant', audio=None, function_call=None, tool_calls=[ChatCompletionMessageToolCall(id='call_3tjnXOirtqUzBu6GIsCcgiaE', function=Function(arguments='{\"origin_country\":\"LB\",\"destination_country\":\"PT\"}', name='get_visa_information'), type='function')]), {'role': 'tool', 'tool_call_id': 'call_3tjnXOirtqUzBu6GIsCcgiaE', 'content': '{\"origin country\": \"LB\", \"destination country\": \"PT\", \"visa type\": \"visa required\", \"maxStay\": 0}'}]\n",
      "[{'role': 'user', 'content': \"Hello, I'm planning a trip to Portugal. Can you help me with the visa requirements?\"}, {'role': 'assistant', 'content': 'Could you please tell me which country your passport is issued from? This will help me provide accurate visa information for your trip to Portugal.'}, {'role': 'user', 'content': 'My passport is from Lebanon.'}, ChatCompletionMessage(content=None, refusal=None, role='assistant', audio=None, function_call=None, tool_calls=[ChatCompletionMessageToolCall(id='call_3tjnXOirtqUzBu6GIsCcgiaE', function=Function(arguments='{\"origin_country\":\"LB\",\"destination_country\":\"PT\"}', name='get_visa_information'), type='function')]), {'role': 'tool', 'tool_call_id': 'call_3tjnXOirtqUzBu6GIsCcgiaE', 'content': '{\"origin country\": \"LB\", \"destination country\": \"PT\", \"visa type\": \"visa required\", \"maxStay\": 0}'}]\n",
      "As a passport holder from Lebanon, you will need a visa to visit Portugal. Unfortunately, the visa requirements indicate that you may not be allowed to stay for a specific duration without a visa, so it's essential to apply for one before your trip.\n",
      "\n",
      "If you need assistance with the visa application process or further information about what documents you might need, feel free to ask!\n"
     ]
    }
   ],
   "source": [
    "# Provide Origin Country\n",
    "origin_message = {\"role\": \"user\", \"content\": \"My passport is from Lebanon.\"}\n",
    "\n",
    "# Run Completion\n",
    "completion = await manager.next(origin_message)\n",
    "\n",
    "print(completion)"
   ]
  },
  {
   "cell_type": "markdown",
   "metadata": {},
   "source": [
    "#### Prompt #2 - From Netherlands To Portugal - Passport Image\n"
   ]
  },
  {
   "cell_type": "code",
   "execution_count": 291,
   "metadata": {},
   "outputs": [
    {
     "name": "stdout",
     "output_type": "stream",
     "text": [
      "Sure! Could you please provide me with the country that your passport is issued from? This will help me find the visa requirements for your trip to Portugal.\n"
     ]
    }
   ],
   "source": [
    "# Create Manager\n",
    "manager = ChatManager(tools=tools, api_key=api_key)\n",
    "\n",
    "# Reset Manager\n",
    "manager.reset()\n",
    "\n",
    "# Create User Message\n",
    "message = {\"role\": \"user\", \"content\": \"Hello, I'm planning a trip to Portugal. Can you help me with the visa requirements?\" }\n",
    "\n",
    "# Run Completion\n",
    "completion = await manager.next(message)\n",
    "\n",
    "print(completion)"
   ]
  },
  {
   "cell_type": "code",
   "execution_count": 292,
   "metadata": {},
   "outputs": [
    {
     "name": "stdout",
     "output_type": "stream",
     "text": [
      "As a passport holder from the Netherlands (NL), you do not need a visa to visit Portugal (PT) for short stays. You can stay for up to 90 days within a 180-day period for tourism or business purposes.\n",
      "\n",
      "If you have any more questions about your trip, feel free to ask!\n"
     ]
    }
   ],
   "source": [
    "IMAGE_PATH = \"../data/passports/NLD Passport.jpg\"\n",
    "\n",
    "origin_message_image = create_image_prompt(IMAGE_PATH)\n",
    "\n",
    "completion = await manager.next(origin_message_image)\n",
    "\n",
    "print(completion)"
   ]
  },
  {
   "cell_type": "markdown",
   "metadata": {},
   "source": [
    "#### Prompt #3 - From Iceland to Singapore - Text Prompts\n"
   ]
  },
  {
   "cell_type": "code",
   "execution_count": 286,
   "metadata": {},
   "outputs": [
    {
     "name": "stdout",
     "output_type": "stream",
     "text": [
      "To assist you with the visa requirements for Singapore, could you please provide the following information:\n",
      "\n",
      "1. Your passport's country of issuance (nationality).\n",
      "2. The purpose of your visit (e.g., tourism, business, study, etc.). \n",
      "\n",
      "Once I have this information, I can provide you with the necessary visa requirements.\n"
     ]
    }
   ],
   "source": [
    "# Create Manager\n",
    "manager = ChatManager(tools=tools, api_key=api_key)\n",
    "\n",
    "# Reset in case older messages are present\n",
    "manager.reset()\n",
    "\n",
    "# Create User Message\n",
    "message = {\"role\": \"user\", \"content\": \"Hi, I need help determining the visa requirements to Singapore.\" }\n",
    "\n",
    "# Run Completion\n",
    "completion = await manager.next(message)\n",
    "\n",
    "print(completion)"
   ]
  },
  {
   "cell_type": "code",
   "execution_count": 287,
   "metadata": {},
   "outputs": [
    {
     "name": "stdout",
     "output_type": "stream",
     "text": [
      "As a passport holder from Iceland, you will need a visa to visit Singapore. Unfortunately, you may not be able to stay for any duration without obtaining a visa first. \n",
      "\n",
      "Please check with the nearest Singaporean embassy or consulate for further details on the application process and any specific requirements you may need to fulfill.\n"
     ]
    }
   ],
   "source": [
    "# Provide Origin Country\n",
    "origin_message = {\"role\": \"user\", \"content\": \"My passport is from Iceland.\"}\n",
    "\n",
    "# Run Completion\n",
    "completion = await manager.next(origin_message)\n",
    "\n",
    "print(completion)"
   ]
  },
  {
   "cell_type": "markdown",
   "metadata": {},
   "source": [
    "#### Prompt #4 - From New Zealand To Portugal - Passport Image\n"
   ]
  },
  {
   "cell_type": "code",
   "execution_count": 293,
   "metadata": {},
   "outputs": [
    {
     "name": "stdout",
     "output_type": "stream",
     "text": [
      "Could you please provide me with the abbreviation of the country from which your passport is issued? This will help me determine the specific visa requirements for traveling to Portugal.\n"
     ]
    }
   ],
   "source": [
    "# Create Manager\n",
    "manager = ChatManager(tools=tools, api_key=api_key)\n",
    "\n",
    "# Reset in case older messages are present\n",
    "manager.reset()\n",
    "\n",
    "# Create User Message\n",
    "message = {\"role\": \"user\", \"content\": \"Hi, I need help determining the visa requirements to Portugal.\" }\n",
    "\n",
    "# Run Completion\n",
    "completion = await manager.next(message)\n",
    "\n",
    "print(completion)"
   ]
  },
  {
   "cell_type": "code",
   "execution_count": null,
   "metadata": {},
   "outputs": [
    {
     "name": "stdout",
     "output_type": "stream",
     "text": [
      "As a passport holder from New Zealand (abbreviated as NZL), you will need a visa to travel to Portugal. However, the maximum stay details are not specified. It’s best to check with the Portuguese consulate or relevant authorities for specific visa types and conditions.\n"
     ]
    },
    {
     "ename": "",
     "evalue": "",
     "output_type": "error",
     "traceback": [
      "\u001b[1;31mThe Kernel crashed while executing code in the current cell or a previous cell. \n",
      "\u001b[1;31mPlease review the code in the cell(s) to identify a possible cause of the failure. \n",
      "\u001b[1;31mClick <a href='https://aka.ms/vscodeJupyterKernelCrash'>here</a> for more info. \n",
      "\u001b[1;31mView Jupyter <a href='command:jupyter.viewOutput'>log</a> for further details."
     ]
    }
   ],
   "source": [
    "IMAGE_PATH = \"../data/passports/NZL Passport.png\"\n",
    "\n",
    "origin_message_image = create_image_prompt(IMAGE_PATH)\n",
    "\n",
    "completion = await manager.next(origin_message_image)\n",
    "\n",
    "print(completion)"
   ]
  }
 ],
 "metadata": {
  "kernelspec": {
   "display_name": "venv",
   "language": "python",
   "name": "python3"
  },
  "language_info": {
   "codemirror_mode": {
    "name": "ipython",
    "version": 3
   },
   "file_extension": ".py",
   "mimetype": "text/x-python",
   "name": "python",
   "nbconvert_exporter": "python",
   "pygments_lexer": "ipython3",
   "version": "3.10.11"
  }
 },
 "nbformat": 4,
 "nbformat_minor": 2
}
