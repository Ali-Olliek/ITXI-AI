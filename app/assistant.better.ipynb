{
 "cells": [
  {
   "cell_type": "markdown",
   "metadata": {},
   "source": [
    "## Better!\n",
    "\n",
    "In this notebook I will try refactoring the code to use the api more efficiently.\n"
   ]
  },
  {
   "cell_type": "markdown",
   "metadata": {},
   "source": [
    "##### Load Libraries\n"
   ]
  },
  {
   "cell_type": "code",
   "execution_count": 57,
   "metadata": {},
   "outputs": [],
   "source": [
    "import os\n",
    "import json\n",
    "import base64\n",
    "from typing import List\n",
    "from openai import OpenAI\n",
    "from dotenv import load_dotenv\n",
    "from colorama import Back, Style, Fore\n"
   ]
  },
  {
   "cell_type": "markdown",
   "metadata": {},
   "source": [
    "##### Load Environment Variables\n"
   ]
  },
  {
   "cell_type": "code",
   "execution_count": 58,
   "metadata": {},
   "outputs": [],
   "source": [
    "load_dotenv()\n",
    "api_key = os.environ[\"OPENAI_API_KEY\"]"
   ]
  },
  {
   "cell_type": "markdown",
   "metadata": {},
   "source": [
    "##### Data File Access\n"
   ]
  },
  {
   "cell_type": "code",
   "execution_count": 59,
   "metadata": {},
   "outputs": [],
   "source": [
    "PATH_TO_JSON_FILE = \"../data/visa_information.json\"\n",
    "\n",
    "try:\n",
    "    with open(PATH_TO_JSON_FILE) as file:\n",
    "        visa_information = json.load(file)\n",
    "except:\n",
    "    raise Exception(\"Failed to load json file.\")"
   ]
  },
  {
   "cell_type": "markdown",
   "metadata": {},
   "source": [
    "##### Tools (Function Calls)\n"
   ]
  },
  {
   "cell_type": "code",
   "execution_count": 60,
   "metadata": {},
   "outputs": [],
   "source": [
    "tools = [\n",
    "    {\n",
    "        \"type\": \"function\",\n",
    "        \"function\": {  \n",
    "        \"name\": \"get_visa_information\",\n",
    "        \"description\": \"Get Visa information between two locations\",\n",
    "        \"parameters\": {\n",
    "            \"type\": \"object\",\n",
    "            \"properties\": {\n",
    "                \"origin_country\": {\n",
    "                    \"type\": \"string\",\n",
    "                    \"description\": \"ISO alpha-3 code of the country from which the user's passport is issued\",\n",
    "                },\n",
    "                \"destination_country\": {\n",
    "                    \"type\": \"string\",\n",
    "                    \"description\": \"ISO alpha-3 code of the country the user is planning on visiting\"\n",
    "                }\n",
    "            },\n",
    "            \"required\": [\"origin_country\" ,\"destination_country\"],\n",
    "            \"additionalProperties\": False\n",
    "            },\n",
    "            \"strict\": True\n",
    "            },\n",
    "        },\n",
    "    {\n",
    "        \"type\": \"function\",\n",
    "        \"function\": {  \n",
    "        \"name\": \"create_image_prompt\",\n",
    "        \"description\": \"Extract the image name with the extension\",\n",
    "        \"parameters\": {\n",
    "            \"type\": \"object\",\n",
    "            \"properties\": {\n",
    "                \"image_name\": {\n",
    "                    \"type\": \"string\",\n",
    "                    \"description\": \"The name of the image on the user's disk. It should contain the valid extension. accepted extensions for now are .png and .jpg\",\n",
    "                }\n",
    "            },\n",
    "            \"required\": [\"image_name\"],\n",
    "            \"additionalProperties\": False\n",
    "            },\n",
    "            \"strict\": True\n",
    "            },\n",
    "        },\n",
    "    ]\n",
    "\n",
    "SYSTEM_PROMPT = {\n",
    "                \"role\": \"developer\", \n",
    "                \"content\": \"\"\"\n",
    "                You are an AI assistant that provides visa information by calling a function. Your role is to:\n",
    "                1. Ask the user for their passport country and destination country name. Do not ask for the country's abbreviations, or ISO Alpha-3 codes. \n",
    "                For the origin country, the user can either provide the country name as text or provide the name of the file of the passport image. It is optional to provide an image. Acceptable image extensions are \".png\" and \".jpg\".\n",
    "                2. Call and await the appropriate function to retrieve visa information.\n",
    "                3. If the function response indicates that the passport country is not supported, politely inform the user that you cannot provide visa details.\n",
    "                4. Do not assume or generate visa information—always rely on the function response.\n",
    "                5. Ensure responses are clear, concise, and professional. If necessary, ask clarifying questions before making the function call.\n",
    "                \"\"\",\n",
    "                }"
   ]
  },
  {
   "cell_type": "markdown",
   "metadata": {},
   "source": [
    "##### Adjust Data Structure For Easier Lookups\n"
   ]
  },
  {
   "cell_type": "code",
   "execution_count": 61,
   "metadata": {},
   "outputs": [],
   "source": [
    "new_visa_information = {}\n",
    "\n",
    "for origin, visa_info in visa_information.items():\n",
    "    new_visa_information[origin] = {}\n",
    "    \"\"\" \n",
    "        {\n",
    "            destination: {}\n",
    "        }\n",
    "    \"\"\"\n",
    "\n",
    "    for destination, details in visa_info.get(\"visaFree\", {}).items():\n",
    "        new_visa_information[origin][destination] = {\n",
    "            \"type\": \"visaFree\",\n",
    "            \"maxStay\": details[\"maxStay\"]\n",
    "        }\n",
    "    \n",
    "    for destination, details in visa_info.get(\"visaOnArrival\", {}).items():\n",
    "        new_visa_information[origin][destination] = {\n",
    "            \"type\": \"visaOnArrival\",\n",
    "            \"maxStay\": details[\"maxStay\"]\n",
    "        }\n",
    "    \n",
    "    \"\"\"\n",
    "    {\n",
    "        destination: \n",
    "        {\n",
    "            origin: \n",
    "            {\n",
    "                type: string,\n",
    "                \"maxStay\": number    \n",
    "            }    \n",
    "        }\n",
    "    }        \n",
    "    \"\"\""
   ]
  },
  {
   "cell_type": "markdown",
   "metadata": {},
   "source": [
    "##### Function To Get Visa Information\n",
    "\n",
    "For the sake of scalability, we will use a dictionary with the name of the function and a reference to the function in the code, this way we can add functions easily to our system by appending to this dictionary.\n"
   ]
  },
  {
   "cell_type": "code",
   "execution_count": 62,
   "metadata": {},
   "outputs": [],
   "source": [
    "async def get_visa_information(origin_country: str, destination_country: str, data = new_visa_information):    \n",
    "    if not origin_country and not destination_country:\n",
    "        raise ValueError(\"Both 'origin' and 'destination' countries are required.\")\n",
    "    \n",
    "    # Check if destination country exists in the data\n",
    "    if destination_country not in data:\n",
    "        return \"No visa information available for destination country\"\n",
    "    \n",
    "    # Get listed countries for the destination country\n",
    "    destination_data = data[destination_country]\n",
    "    \n",
    "    # If origin country isn't found within destination country, default to 'visa required'\n",
    "    visa_info = destination_data.get(origin_country, {\n",
    "        'type': 'visa required',\n",
    "        'maxStay': '0 days'\n",
    "    })\n",
    "    \n",
    "    return {\n",
    "        'origin country': origin_country,\n",
    "        'destination country': destination_country,\n",
    "        'visa type': visa_info['type'],\n",
    "        'maxStay': visa_info['maxStay']\n",
    "    }"
   ]
  },
  {
   "cell_type": "markdown",
   "metadata": {},
   "source": [
    "##### Utility Functions\n"
   ]
  },
  {
   "cell_type": "code",
   "execution_count": 63,
   "metadata": {},
   "outputs": [],
   "source": [
    "from pathlib import Path\n",
    "\n",
    "def encode_image(image_name):\n",
    "    path_to_image = Path().cwd().parent / \"data\" / \"passports\" / image_name\n",
    "\n",
    "    with open(path_to_image, \"rb\") as image_file:\n",
    "        return base64.b64encode(image_file.read()).decode(\"utf-8\")\n",
    "\n",
    "# https://platform.openai.com/docs/guides/vision/quick-start#uploading-base64-encoded-images\n",
    "async def create_image_prompt(image_name):\n",
    "    base64_image = encode_image(image_name)\n",
    "\n",
    "    return [\n",
    "            {\"type\": \"text\", \"text\": \"Here is a picture of my passport. Extract the ISO alpha-3 code of the origin country from it.\"},\n",
    "            {\"type\": \"image_url\", \"image_url\": {\"url\": f\"data:image/jpeg;base64,{base64_image}\"},},\n",
    "            ]\n"
   ]
  },
  {
   "cell_type": "code",
   "execution_count": 64,
   "metadata": {},
   "outputs": [],
   "source": [
    "# Add More Functions Here\n",
    "function_calls_dict = {\n",
    "    \"get_visa_information\": get_visa_information,\n",
    "    \"create_image_prompt\": create_image_prompt\n",
    "}"
   ]
  },
  {
   "cell_type": "markdown",
   "metadata": {},
   "source": [
    "##### Function Calling Service\n",
    "\n",
    "This service class will be responsible for:\n",
    "\n",
    "- Access to the functions dictionary.\n",
    "- Extract tool calls from the assistant messages.\n",
    "- Loop through the tool calls and call each function respectively.\n",
    "- Append each tool call and its subsequent result into an array to be appended eventually to the main message stack.\n"
   ]
  },
  {
   "cell_type": "code",
   "execution_count": 65,
   "metadata": {},
   "outputs": [],
   "source": [
    "class FunctionCallService():\n",
    "    def __init__(self, functions):\n",
    "        self.functions = functions\n",
    "        self.tool_call_messages = []\n",
    "        \n",
    "    async def run(self, tool_call_prompt):\n",
    "        self.tool_call_messages = []\n",
    "        \n",
    "        for tool_call in tool_call_prompt.tool_calls:\n",
    "            # Extract Function Name and Arguments\n",
    "            name = tool_call.function.name\n",
    "            args = json.loads(tool_call.function.arguments)\n",
    "\n",
    "            # Call The Function\n",
    "            result = await self.__call_function(name, args)\n",
    "\n",
    "            # In case our function returns an object\n",
    "            if isinstance(result, object):\n",
    "                result = json.dumps(result)\n",
    "            \n",
    "            self.tool_call_messages.append({\n",
    "                \"role\": \"tool\",\n",
    "                \"tool_call_id\":tool_call.id,\n",
    "                \"content\": result\n",
    "            })\n",
    "            \n",
    "        return self.tool_call_messages\n",
    "            \n",
    "    async def __call_function(self, name, args):\n",
    "        if name in self.functions:\n",
    "            func = self.functions[name]\n",
    "            try:\n",
    "                return await func(**args)\n",
    "            except TypeError as e:\n",
    "                return f\"Error calling function '{name}': {str(e)}\"\n",
    "        else:\n",
    "            return f\"Error: Function '{name}' not found.\"\n",
    "        \n",
    "    def reset(self):\n",
    "        self.tool_call_messages = []"
   ]
  },
  {
   "cell_type": "markdown",
   "metadata": {},
   "source": [
    "##### Chat Manager\n",
    "\n",
    "The main idea behind having a manager for our chat is to allow easier management for the messages stack.\n",
    "In this class we mainly run completions, and those completions – based on their type (tool calls, message etc..) – we route the flow of the messages.\n"
   ]
  },
  {
   "cell_type": "code",
   "execution_count": 66,
   "metadata": {},
   "outputs": [],
   "source": [
    "from typing import List\n",
    "from openai import OpenAI\n",
    "\n",
    "class ChatManager():\n",
    "    def __init__(self, tools, api_key: str ,model: str = \"gpt-4o-mini\"):\n",
    "        self.model = model\n",
    "        self.tools = tools\n",
    "        self.messages = [SYSTEM_PROMPT]\n",
    "        self.client = OpenAI(api_key=api_key)\n",
    "        self.functionCallService = FunctionCallService(function_calls_dict)\n",
    "    \n",
    "    async def next(self, message = None):\n",
    "                \n",
    "        if message is not None:\n",
    "            self.messages.append(message)\n",
    "        \n",
    "        completion, is_function_calling = await self.__get_completion()\n",
    "        \n",
    "        # If there are function calling\n",
    "        if is_function_calling:\n",
    "            # Get the responses from the tools (Function Calls)\n",
    "            tool_calls_responses = await self.functionCallService.run(completion)\n",
    "            \n",
    "            # Append the responses to the Messages Stack\n",
    "            self.messages = self.messages + tool_calls_responses\n",
    "            \n",
    "            # Run a new completion with the new information\n",
    "            await self.next()\n",
    "            \n",
    "        # Return the content of the prompt\n",
    "        return completion.content\n",
    "    \n",
    "    async def __get_completion(self):\n",
    "        response = self.client.chat.completions.create(\n",
    "            model = self.model,\n",
    "            tools = self.tools,\n",
    "            messages = self.messages,\n",
    "            tool_choice = \"auto\"\n",
    "        )\n",
    "        \n",
    "        # Extract Message\n",
    "        message = response.choices[0].message\n",
    "        \n",
    "        # Check if there is a function call\n",
    "        is_function_calling = (\n",
    "            hasattr(response.choices[0].message, \"tool_calls\") \n",
    "            and \n",
    "            message.tool_calls is not None)\n",
    "        \n",
    "        if not is_function_calling:\n",
    "            self.messages.append({\"role\": \"assistant\", \"content\": message.content})\n",
    "        else:\n",
    "            self.messages.append(message)\n",
    "            \n",
    "        return message, is_function_calling\n",
    "    \n",
    "    def reset(self):\n",
    "        self.messages = []\n",
    "        self.functionCallService.reset()\n",
    "    "
   ]
  },
  {
   "cell_type": "markdown",
   "metadata": {},
   "source": [
    "### Prompting\n"
   ]
  },
  {
   "cell_type": "code",
   "execution_count": null,
   "metadata": {},
   "outputs": [],
   "source": [
    "# Create Manager\n",
    "manager = ChatManager(tools=tools, api_key=api_key)\n",
    "\n",
    "display_messages = []\n",
    "\n",
    "print(\"Chat started. \\nTo provide passport picture, please include them in double quotations. \\nType 'quit' to exit\\n\")\n",
    "\n",
    "while True:\n",
    "    \n",
    "    raw_user_prompt = input()\n",
    "    \n",
    "    # Validation and Sanitization\n",
    "    if raw_user_prompt == \"\":\n",
    "        print(\"Please provide a proper input.\")\n",
    "        continue\n",
    "    \n",
    "    if raw_user_prompt.lower() == \"quit\":\n",
    "        print(Fore.RED + \"Ending chat...\")\n",
    "        break\n",
    "    \n",
    "    print(f\"\\nYou: {raw_user_prompt}\")\n",
    "    \n",
    "    user_prompt = {\"role\": \"user\",\"content\": raw_user_prompt}\n",
    "    \n",
    "    display_messages.append(user_prompt)\n",
    "    \n",
    "    completion = await manager.next(user_prompt)\n",
    "    \n",
    "    display_messages.append({\"role\": \"assistant\", \"content\": completion})\n",
    "    \n",
    "    print(Fore.GREEN + f\"\\nAssistant: {completion}\" + Style.RESET_ALL)"
   ]
  }
 ],
 "metadata": {
  "kernelspec": {
   "display_name": "venv",
   "language": "python",
   "name": "python3"
  },
  "language_info": {
   "codemirror_mode": {
    "name": "ipython",
    "version": 3
   },
   "file_extension": ".py",
   "mimetype": "text/x-python",
   "name": "python",
   "nbconvert_exporter": "python",
   "pygments_lexer": "ipython3",
   "version": "3.10.11"
  }
 },
 "nbformat": 4,
 "nbformat_minor": 2
}
