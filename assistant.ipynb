{
 "cells": [
  {
   "cell_type": "markdown",
   "metadata": {},
   "source": [
    "## ITXI AI Assessment\n"
   ]
  },
  {
   "cell_type": "markdown",
   "metadata": {},
   "source": [
    "In this notebook, we will try to explore OpenAI's APIs and how we can employ them to automate the workflow of an application from getting natural language prompts to executing business logic function behind the scenes.\n",
    "\n",
    "In this notebook, we will have a model that provides users with visa information depending on their `origin country`, and their `destination country`.\n"
   ]
  },
  {
   "cell_type": "markdown",
   "metadata": {},
   "source": [
    "##### Import Modules\n"
   ]
  },
  {
   "cell_type": "code",
   "execution_count": 10,
   "metadata": {},
   "outputs": [],
   "source": [
    "import os\n",
    "import json\n",
    "from openai import OpenAI\n",
    "from dotenv import load_dotenv"
   ]
  },
  {
   "cell_type": "markdown",
   "metadata": {},
   "source": [
    "##### Load `.env` Variables\n"
   ]
  },
  {
   "cell_type": "code",
   "execution_count": 11,
   "metadata": {},
   "outputs": [],
   "source": [
    "load_dotenv()\n",
    "client = OpenAI(api_key=os.environ[\"OPENAI_API_KEY\"])"
   ]
  },
  {
   "cell_type": "markdown",
   "metadata": {},
   "source": [
    "##### Load Json File\n"
   ]
  },
  {
   "cell_type": "code",
   "execution_count": 12,
   "metadata": {},
   "outputs": [],
   "source": [
    "PATH_TO_JSON_FILE = \"data/visa_information.json\"\n",
    "\n",
    "try:\n",
    "    with open(PATH_TO_JSON_FILE) as file:\n",
    "        visa_information = json.load(file)\n",
    "except:\n",
    "    raise Exception(\"Failed to load json file.\")"
   ]
  },
  {
   "cell_type": "markdown",
   "metadata": {},
   "source": [
    "##### Adjust Json Structure\n",
    "\n",
    "The current structure is ineffecient for lookups of origin and destination countries, and since we will expect multiple lookups, I decided to switch the levels of the `visa` type and the underlying countries.\n",
    "\n",
    "From:\n",
    "\n",
    "`\"Origin Country\": {\n",
    "    \"visaFree\": {\n",
    "        \"Destination Country\": {\n",
    "            \"Max Stay\": Number\n",
    "        }\n",
    "    }\n",
    "}`\n",
    "\n",
    "To:\n",
    "\n",
    "`\"Origin Country\": {\n",
    "    \"Destination Country\" {\n",
    "        \"Visa Type\": \"visaFree\" | \"visaOrArrival\",\n",
    "        \"Max Stay\": Number\n",
    "    }\n",
    "}`\n",
    "\n",
    "For our scenario here (small json, and only simple lookup), this structure will offer more efficient lookups, however, later on if the json file includes all countries in the world, then it will cause a storage overhead, and become a bit unreadable.\n"
   ]
  },
  {
   "cell_type": "code",
   "execution_count": 13,
   "metadata": {},
   "outputs": [],
   "source": [
    "new_visa_information = {}\n",
    "\n",
    "for origin, visa_info in visa_information.items():\n",
    "    new_visa_information[origin] = {}\n",
    "    \"\"\" \n",
    "        {\n",
    "            origin: {}\n",
    "        }\n",
    "    \"\"\"\n",
    "\n",
    "    for destination, details in visa_info.get(\"visaFree\", {}).items():\n",
    "        new_visa_information[origin][destination] = {\n",
    "            \"type\": \"visaFree\",\n",
    "            \"maxStay\": details[\"maxStay\"]\n",
    "        }\n",
    "    \n",
    "    for destination, details in visa_info.get(\"visaOnArrival\", {}).items():\n",
    "        new_visa_information[origin][destination] = {\n",
    "            \"type\": \"visaOnArrival\",\n",
    "            \"maxStay\": details[\"maxStay\"]\n",
    "        }\n",
    "    \n",
    "    \"\"\"\n",
    "    {\n",
    "        origin: \n",
    "        {\n",
    "            destination: \n",
    "            {\n",
    "                type: string,\n",
    "                \"maxStay\": number    \n",
    "            }    \n",
    "        }\n",
    "    }        \n",
    "    \"\"\""
   ]
  },
  {
   "cell_type": "markdown",
   "metadata": {},
   "source": [
    "##### Function Description\n",
    "\n",
    "A `Function Description` is an object that we provide to our model to describe to the model our `Function Calling` function which allows the model to better suggest which function to call and extract the parameters required for the function from natural language.\n"
   ]
  },
  {
   "cell_type": "code",
   "execution_count": 14,
   "metadata": {},
   "outputs": [],
   "source": [
    "function_descriptions = [\n",
    "    {\n",
    "        \"name\": \"get_visa_information\",\n",
    "        \"description\": \"Get Visa information between two locations\",\n",
    "        \"parameters\": {\n",
    "            \"type\": \"object\",\n",
    "            \"properties\": {\n",
    "                \"origin_country\": {\n",
    "                    \"type\": \"string\",\n",
    "                    \"description\": \"Abbreviation of the country from which the user's passport is issued\",\n",
    "                },\n",
    "                \"destination_country\": {\n",
    "                    \"type\": \"string\",\n",
    "                    \"description\": \"Abbreviation of the country the user is planning on visiting\"\n",
    "                }\n",
    "            },\n",
    "            \"required\": [\"origin_country\" ,\"destination_country\"]\n",
    "        }\n",
    "    }    \n",
    "]"
   ]
  },
  {
   "cell_type": "markdown",
   "metadata": {},
   "source": [
    "##### Business Logic\n",
    "\n",
    "Here we will create the function that we will execute when the assistant prompts our code to.\n",
    "When a user asks the assistant for visa information for an origin and destination country, the assistant will parse the natural language and return an object with the function name and its corresponding parameters.\n"
   ]
  },
  {
   "cell_type": "code",
   "execution_count": 68,
   "metadata": {},
   "outputs": [],
   "source": [
    "def get_visa_information(data: dict, kwargs: dict):\n",
    "    origin_country = kwargs.get(\"origin_country\")\n",
    "    destination_country = kwargs.get(\"destination_country\")\n",
    "    \n",
    "    if not origin_country and not destination_country:\n",
    "        raise ValueError(\"Both 'origin' and 'destination' countries are required.\")\n",
    "    \n",
    "    visa_info = data.get(origin_country, {}).get(destination_country, {})\n",
    "    \n",
    "    return {\n",
    "        'origin country': origin_country,\n",
    "        'destination country': destination_country,\n",
    "        'visa type': visa_info.get('type', 'visa required'),\n",
    "        'maxStay': visa_info.get('maxStay', 0)\n",
    "    }"
   ]
  },
  {
   "cell_type": "markdown",
   "metadata": {},
   "source": [
    "##### Prompting and Chat Completion\n",
    "\n",
    "Now we are going to use the user prompts, and the subsequent assistant responses to call the function above and return a proper answer to the user.\n"
   ]
  },
  {
   "cell_type": "code",
   "execution_count": 16,
   "metadata": {},
   "outputs": [],
   "source": [
    "user_prompt = \"Hello, I'm planning a trip from to Portugal. Can you help me with the visa requirements?\""
   ]
  },
  {
   "cell_type": "code",
   "execution_count": 18,
   "metadata": {},
   "outputs": [],
   "source": [
    "completion = client.chat.completions.create(\n",
    "    model=\"gpt-4o-mini\",\n",
    "    messages=[{\"role\": \"user\", \"content\": user_prompt}],\n",
    "    functions=function_descriptions,\n",
    "    function_call=\"auto\",\n",
    ")"
   ]
  },
  {
   "cell_type": "code",
   "execution_count": 31,
   "metadata": {},
   "outputs": [
    {
     "name": "stdout",
     "output_type": "stream",
     "text": [
      "Sure, I can help with that! Could you please provide me with the country that issued your passport?\n"
     ]
    }
   ],
   "source": [
    "assistant_message = completion.choices[0].message.content\n",
    "\n",
    "print(assistant_message)"
   ]
  },
  {
   "cell_type": "code",
   "execution_count": 20,
   "metadata": {},
   "outputs": [],
   "source": [
    "user_prompt_2 = \"My passport is from Lebanon.\""
   ]
  },
  {
   "cell_type": "code",
   "execution_count": 32,
   "metadata": {},
   "outputs": [],
   "source": [
    "second_completion = client.chat.completions.create(\n",
    "    model=\"gpt-4o-mini\",\n",
    "    messages=\n",
    "    [\n",
    "        {\"role\": \"user\", \"content\": user_prompt}, \n",
    "        {\"role\": \"assistant\", \"content\": assistant_message}, \n",
    "        {\"role\": \"user\", \"content\": user_prompt_2}\n",
    "    ],\n",
    "    functions=function_descriptions,\n",
    "    function_call=\"auto\",\n",
    ")"
   ]
  },
  {
   "cell_type": "code",
   "execution_count": 71,
   "metadata": {},
   "outputs": [
    {
     "name": "stdout",
     "output_type": "stream",
     "text": [
      "FunctionCall(arguments='{\"origin_country\":\"LB\",\"destination_country\":\"PT\"}', name='get_visa_information')\n",
      "<function get_visa_information at 0x000001D9B30C6B90>\n",
      "{'origin_country': 'LB', 'destination_country': 'PT'}\n"
     ]
    }
   ],
   "source": [
    "assistant_message_2 = second_completion.choices[0].message.function_call\n",
    "function_call = eval(assistant_message_2.name)\n",
    "arguments=json.loads(assistant_message_2.arguments)\n",
    "\n",
    "print(assistant_message_2)\n",
    "print(function_call)\n",
    "print(arguments)"
   ]
  },
  {
   "cell_type": "code",
   "execution_count": 72,
   "metadata": {},
   "outputs": [
    {
     "name": "stdout",
     "output_type": "stream",
     "text": [
      "{'origin country': 'LB', 'destination country': 'PT', 'visa type': 'visa required', 'maxStay': 0}\n"
     ]
    }
   ],
   "source": [
    "visa_info_result = function_call(new_visa_information, arguments)\n",
    "\n",
    "print(visa_info_result)"
   ]
  },
  {
   "cell_type": "code",
   "execution_count": 81,
   "metadata": {},
   "outputs": [
    {
     "name": "stdout",
     "output_type": "stream",
     "text": [
      "ChatCompletion(id='chatcmpl-AtdE5ri1b2F8QZvS8JXXPlod27N6i', choices=[Choice(finish_reason='function_call', index=0, logprobs=None, message=ChatCompletionMessage(content=None, refusal=None, role='assistant', audio=None, function_call=FunctionCall(arguments='{\"origin_country\":\"LB\",\"destination_country\":\"PT\"}', name='get_visa_information'), tool_calls=None))], created=1737822189, model='gpt-4o-mini-2024-07-18', object='chat.completion', service_tier='default', system_fingerprint='fp_72ed7ab54c', usage=CompletionUsage(completion_tokens=23, prompt_tokens=132, total_tokens=155, completion_tokens_details=CompletionTokensDetails(accepted_prediction_tokens=0, audio_tokens=0, reasoning_tokens=0, rejected_prediction_tokens=0), prompt_tokens_details=PromptTokensDetails(audio_tokens=0, cached_tokens=0)))\n"
     ]
    }
   ],
   "source": [
    "print(second_completion)"
   ]
  },
  {
   "cell_type": "code",
   "execution_count": 94,
   "metadata": {},
   "outputs": [
    {
     "name": "stdout",
     "output_type": "stream",
     "text": [
      "Choice(finish_reason='function_call', index=0, logprobs=None, message=ChatCompletionMessage(content=None, refusal=None, role='assistant', audio=None, function_call=FunctionCall(arguments='{\"origin_country\":\"LB\",\"destination_country\":\"PT\"}', name='get_visa_information'), tool_calls=None))\n"
     ]
    }
   ],
   "source": [
    "print(second_completion.choices[0])"
   ]
  },
  {
   "cell_type": "code",
   "execution_count": 101,
   "metadata": {},
   "outputs": [],
   "source": [
    "third_completion = client.chat.completions.create(\n",
    "    model=\"gpt-4o-mini\",\n",
    "    messages=\n",
    "    [\n",
    "        {\"role\": \"user\", \"content\": user_prompt}, \n",
    "        {\"role\": \"assistant\", \"content\": assistant_message}, \n",
    "        {\"role\": \"user\", \"content\": user_prompt_2},\n",
    "        {\n",
    "            \"role\": \"function\",\n",
    "            \"name\": assistant_message_2.name, \"content\": json.dumps(visa_info_result)\n",
    "        }\n",
    "    ],\n",
    "    functions=function_descriptions,\n",
    "    function_call=\"none\",\n",
    ")"
   ]
  },
  {
   "cell_type": "code",
   "execution_count": 102,
   "metadata": {},
   "outputs": [
    {
     "name": "stdout",
     "output_type": "stream",
     "text": [
      "ChatCompletion(id='chatcmpl-Ateq9sMqGujvEAC15uQad9mnrmTAP', choices=[Choice(finish_reason='stop', index=0, logprobs=None, message=ChatCompletionMessage(content='As a Lebanese passport holder, you will need a visa to enter Portugal. Unfortunately, the maximum stay and specific details regarding the visa are not provided. I recommend checking with the nearest Portuguese embassy or consulate for the most accurate and detailed information regarding visa types, application processes, and any other requirements you may need to fulfill. If you have any other questions or need further assistance, feel free to ask!', refusal=None, role='assistant', audio=None, function_call=None, tool_calls=None))], created=1737828393, model='gpt-4o-mini-2024-07-18', object='chat.completion', service_tier='default', system_fingerprint='fp_72ed7ab54c', usage=CompletionUsage(completion_tokens=82, prompt_tokens=169, total_tokens=251, completion_tokens_details=CompletionTokensDetails(accepted_prediction_tokens=0, audio_tokens=0, reasoning_tokens=0, rejected_prediction_tokens=0), prompt_tokens_details=PromptTokensDetails(audio_tokens=0, cached_tokens=0)))\n"
     ]
    }
   ],
   "source": [
    "print(third_completion)"
   ]
  }
 ],
 "metadata": {
  "kernelspec": {
   "display_name": "venv",
   "language": "python",
   "name": "python3"
  },
  "language_info": {
   "codemirror_mode": {
    "name": "ipython",
    "version": 3
   },
   "file_extension": ".py",
   "mimetype": "text/x-python",
   "name": "python",
   "nbconvert_exporter": "python",
   "pygments_lexer": "ipython3",
   "version": "3.10.11"
  }
 },
 "nbformat": 4,
 "nbformat_minor": 2
}
