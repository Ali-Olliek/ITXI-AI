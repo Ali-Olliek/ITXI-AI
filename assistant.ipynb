{
 "cells": [
  {
   "cell_type": "markdown",
   "metadata": {},
   "source": [
    "## ITXI AI Assessment\n"
   ]
  },
  {
   "cell_type": "markdown",
   "metadata": {},
   "source": [
    "In this notebook, we will try to explore OpenAI's APIs and how we can employ them to automate the workflow of an application from getting natural language prompts to executing business logic function behind the scenes.\n",
    "\n",
    "In this notebook, we will have a model that provides users with visa information depending on their `origin country`, and their `destination country`.\n"
   ]
  }
 ],
 "metadata": {
  "language_info": {
   "name": "python"
  }
 },
 "nbformat": 4,
 "nbformat_minor": 2
}
